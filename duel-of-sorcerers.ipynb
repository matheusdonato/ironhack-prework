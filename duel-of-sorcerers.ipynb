{
 "cells": [
  {
   "cell_type": "markdown",
   "metadata": {},
   "source": [
    "<img src=\"https://bit.ly/2VnXWr2\" width=\"100\" align=\"left\">"
   ]
  },
  {
   "cell_type": "markdown",
   "metadata": {},
   "source": [
    "# Duel of Sorcerers\n",
    "You are witnessing an epic battle between two powerful sorcerers: Gandalf and Saruman. Each sorcerer has 10 spells of variable power in their mind and they are going to throw them one after the other. The winner of the duel will be the one who wins more of those clashes between spells. Spells are represented as a list of 10 integers whose value equals the power of the spell.\n",
    "```\n",
    "gandalf = [10, 11, 13, 30, 22, 11, 10, 33, 22, 22]\n",
    "saruman = [23, 66, 12, 43, 12, 10, 44, 23, 12, 17]\n",
    "```\n",
    "For example:\n",
    "- The first clash is won by Saruman: 10 against 23.\n",
    "- The second clash is won by Saruman: 11 against 66.\n",
    "- ...\n",
    "\n",
    "You will create two variables, one for each sorcerer, where the sum of clashes won will be stored. Depending on which variable is greater at the end of the duel, you will show one of the following three results on the screen:\n",
    "* Gandalf wins\n",
    "* Saruman wins\n",
    "* Tie\n",
    "\n",
    "<img src=\"images/content_lightning_bolt_big.jpg\" width=\"400\">"
   ]
  },
  {
   "cell_type": "markdown",
   "metadata": {},
   "source": [
    "## Tools\n",
    "You don't necessarily need to use all the tools. Maybe you opt to use some of them or completely different ones, they are given to help you shape the exercise. Programming exercises can be solved in many different ways.\n",
    "\n",
    "1. Data structures: **lists, dictionaries**\n",
    "2. Loop: **for loop**\n",
    "3. Conditional statements: **if-elif-else**\n",
    "4. Functions: **range(), len(), print()**\n",
    "\n",
    "## Tasks\n",
    "\n",
    "#### 1. Create two variables called `gandalf` and `saruman` and assign them the spell power lists. Create a variable called `spells` to store the number of spells that the sorcerers cast. "
   ]
  },
  {
   "cell_type": "code",
   "execution_count": 5,
   "metadata": {},
   "outputs": [],
   "source": [
    "gandalf = [10, 11, 13, 30, 22, 11, 10, 33, 22, 22]\n",
    "saruman = [23, 66, 12, 43, 12, 10, 44, 23, 12, 17]\n",
    "spells = len(gandalf)"
   ]
  },
  {
   "cell_type": "markdown",
   "metadata": {},
   "source": [
    "#### 2. Create two variables called `gandalf_wins` and `saruman_wins`. Set both of them to 0. \n",
    "You will use these variables to count the number of clashes each sorcerer wins. "
   ]
  },
  {
   "cell_type": "code",
   "execution_count": null,
   "metadata": {},
   "outputs": [],
   "source": [
    "gandalf_wins = 0\n",
    "saruman_wins = 0"
   ]
  },
  {
   "cell_type": "markdown",
   "metadata": {},
   "source": [
    "#### 3. Using the lists of spells of both sorcerers, update variables `gandalf_wins` and `saruman_wins` to count the number of times each sorcerer wins a clash. "
   ]
  },
  {
   "cell_type": "code",
   "execution_count": 2,
   "metadata": {},
   "outputs": [
    {
     "name": "stdout",
     "output_type": "stream",
     "text": [
      "--------Wizard Duel 1!-------\n",
      "Gandalf 10\n",
      "Saruman 23\n",
      "~~~~~~~~~~\n",
      "Saruman wins!\n",
      "~~~~~~~~~~\n",
      "--------Wizard Duel 2!-------\n",
      "Gandalf 11\n",
      "Saruman 66\n",
      "~~~~~~~~~~\n",
      "Saruman wins!\n",
      "~~~~~~~~~~\n",
      "--------Wizard Duel 3!-------\n",
      "Gandalf 13\n",
      "Saruman 12\n",
      "~~~~~~~~~~\n",
      "Gandalf wins!\n",
      "~~~~~~~~~~\n",
      "--------Wizard Duel 4!-------\n",
      "Gandalf 30\n",
      "Saruman 43\n",
      "~~~~~~~~~~\n",
      "Saruman wins!\n",
      "~~~~~~~~~~\n",
      "--------Wizard Duel 5!-------\n",
      "Gandalf 22\n",
      "Saruman 12\n",
      "~~~~~~~~~~\n",
      "Gandalf wins!\n",
      "~~~~~~~~~~\n",
      "--------Wizard Duel 6!-------\n",
      "Gandalf 11\n",
      "Saruman 10\n",
      "~~~~~~~~~~\n",
      "Gandalf wins!\n",
      "~~~~~~~~~~\n",
      "--------Wizard Duel 7!-------\n",
      "Gandalf 10\n",
      "Saruman 44\n",
      "~~~~~~~~~~\n",
      "Saruman wins!\n",
      "~~~~~~~~~~\n",
      "--------Wizard Duel 8!-------\n",
      "Gandalf 33\n",
      "Saruman 23\n",
      "~~~~~~~~~~\n",
      "Gandalf wins!\n",
      "~~~~~~~~~~\n",
      "--------Wizard Duel 9!-------\n",
      "Gandalf 22\n",
      "Saruman 12\n",
      "~~~~~~~~~~\n",
      "Gandalf wins!\n",
      "~~~~~~~~~~\n",
      "--------Wizard Duel 10!-------\n",
      "Gandalf 22\n",
      "Saruman 17\n",
      "~~~~~~~~~~\n",
      "Gandalf wins!\n",
      "~~~~~~~~~~\n",
      "Gandalf won 6 clashes!\n",
      "Saruman won 4 clashes!\n",
      "0 clashes ended up in a tie.\n"
     ]
    }
   ],
   "source": [
    "from time import sleep\n",
    "\n",
    "gandalf = [10, 11, 13, 30, 22, 11, 10, 33, 22, 22]\n",
    "saruman = [23, 66, 12, 43, 12, 10, 44, 23, 12, 17]\n",
    "\n",
    "n = -1\n",
    "x = 1\n",
    "gandalf_wins = 0\n",
    "saruman_wins = 0\n",
    "tie = 0\n",
    "\n",
    "while n + 1 < len(gandalf):\n",
    "    n += x\n",
    "    print(f'--------Wizard Duel {n+1}!-------')\n",
    "    print('Gandalf {}'.format(gandalf[n]))\n",
    "    print('Saruman {}'.format(saruman[n]))\n",
    "    print('~'*10)\n",
    "    if gandalf[n] > saruman[n]:\n",
    "        print('Gandalf wins!')\n",
    "        gandalf_wins += 1\n",
    "    elif gandalf[n] < saruman[n]:\n",
    "        print('Saruman wins!')\n",
    "        saruman_wins += 1\n",
    "    else:\n",
    "        print('It is a tie.')\n",
    "        tie += 1\n",
    "    print('~' * 10)\n",
    "    sleep(1)\n",
    "\n",
    "print(f'Gandalf won {gandalf_wins} clashes!')\n",
    "print(f'Saruman won {saruman_wins} clashes!')\n",
    "print(f'{tie} clashes ended up in a tie.')\n"
   ]
  },
  {
   "cell_type": "markdown",
   "metadata": {},
   "source": [
    "#### 4. Who won the battle?\n",
    "Print `Gandalf wins`, `Saruman wins` or `Tie` depending on the result. "
   ]
  },
  {
   "cell_type": "code",
   "execution_count": 3,
   "metadata": {},
   "outputs": [
    {
     "name": "stdout",
     "output_type": "stream",
     "text": [
      "Gandalf wins the duel!\n"
     ]
    }
   ],
   "source": [
    "if gandalf_wins > saruman_wins:\n",
    "    print('Gandalf wins the duel!')\n",
    "elif gandalf_wins < saruman_wins:\n",
    "    print('Saruman wins the duel!')\n",
    "else:\n",
    "    print('The ends in a tie.')"
   ]
  },
  {
   "cell_type": "markdown",
   "metadata": {},
   "source": [
    "## Bonus\n",
    "\n",
    "In this bonus challenge, you'll need to check the winner of the battle but this time, a sorcerer wins if he succeeds in winning 3 spell clashes in a row.\n",
    "\n",
    "Also, the spells now have a name and there is a dictionary that associates that name to a power.\n",
    "\n",
    "```\n",
    "POWER = {\n",
    "    'Fireball': 50, \n",
    "    'Lightning bolt': 40, \n",
    "    'Magic arrow': 10, \n",
    "    'Black Tentacles': 25, \n",
    "    'Contagion': 45\n",
    "}\n",
    "\n",
    "gandalf = ['Fireball', 'Lightning bolt', 'Lightning bolt', 'Magic arrow', 'Fireball', \n",
    "           'Magic arrow', 'Lightning bolt', 'Fireball', 'Fireball', 'Fireball']\n",
    "saruman = ['Contagion', 'Contagion', 'Black Tentacles', 'Fireball', 'Black Tentacles', \n",
    "           'Lightning bolt', 'Magic arrow', 'Contagion', 'Magic arrow', 'Magic arrow']\n",
    "```\n",
    "\n",
    "#### 1. Create variables `POWER`, `gandalf` and `saruman` as seen above. Create a variable called `spells` to store the number of spells that the sorcerers cast. "
   ]
  },
  {
   "cell_type": "code",
   "execution_count": 8,
   "metadata": {},
   "outputs": [],
   "source": [
    "power_spells = ['Fireball', 'Lightning bolt', 'Magic arrow', 'Black Tentacles', 'Contagion']\n",
    "power_damage = [50, 40, 10, 25, 45]\n",
    "gandalf = ['Fireball', 'Lightning bolt', 'Lightning bolt', 'Magic arrow', 'Fireball', 'Magic arrow', 'Lightning bolt', 'Fireball', 'Fireball', 'Fireball']\n",
    "saruman = ['Contagion', 'Contagion', 'Black Tentacles', 'Fireball', 'Black Tentacles', 'Lightning bolt', 'Magic arrow', 'Contagion', 'Magic arrow', 'Magic arrow']"
   ]
  },
  {
   "cell_type": "markdown",
   "metadata": {},
   "source": [
    "#### 2. Create two variables called `gandalf_wins` and `saruman_wins`. Set both of them to 0. "
   ]
  },
  {
   "cell_type": "code",
   "execution_count": 9,
   "metadata": {},
   "outputs": [],
   "source": [
    "gandalf_wins = 0\n",
    "saruman_wins = 0"
   ]
  },
  {
   "cell_type": "markdown",
   "metadata": {},
   "source": [
    "#### 3. Create two variables called `gandalf_power` and `saruman_power` to store the list of spell powers of each sorcerer."
   ]
  },
  {
   "cell_type": "code",
   "execution_count": 16,
   "metadata": {},
   "outputs": [],
   "source": [
    "gandalf_power = [50, 40, 40, 10, 50, 10, 40, 50, 50, 50]\n",
    "saruman_power = [45, 45, 25, 50, 25, 40, 10, 45, 10, 10]"
   ]
  },
  {
   "cell_type": "markdown",
   "metadata": {},
   "source": [
    "#### 4. The battle starts! Using the variables you've created above, code the execution of spell clashes. Remember that a sorcerer wins if he succeeds in winning 3 spell clashes in a row. \n",
    "If a clash ends up in a tie, the counter of wins in a row is not restarted to 0. Remember to print who is the winner of the battle. "
   ]
  },
  {
   "cell_type": "code",
   "execution_count": 13,
   "metadata": {},
   "outputs": [
    {
     "name": "stdout",
     "output_type": "stream",
     "text": [
      "--------Wizard Duel!-------\n",
      "----------\n",
      "CLASH 1:\n",
      "~~~~~~~~~~\n",
      "Gandalf casts Fireball\n",
      " which takes 50 of damage!\n",
      "Saruman casts Contagion\n",
      " which takes 45 of damage!\n",
      "~~~~~~~~~~\n",
      "-> Gandalf wins!\n",
      "----------\n",
      "CLASH 2:\n",
      "~~~~~~~~~~\n",
      "Gandalf casts Lightning bolt\n",
      " which takes 40 of damage!\n",
      "Saruman casts Contagion\n",
      " which takes 45 of damage!\n",
      "~~~~~~~~~~\n",
      "-> Saruman wins!\n",
      "----------\n",
      "CLASH 3:\n",
      "~~~~~~~~~~\n",
      "Gandalf casts Lightning bolt\n",
      " which takes 40 of damage!\n",
      "Saruman casts Black Tentacles\n",
      " which takes 25 of damage!\n",
      "~~~~~~~~~~\n",
      "-> Gandalf wins!\n",
      "----------\n",
      "CLASH 4:\n",
      "~~~~~~~~~~\n",
      "Gandalf casts Magic arrow\n",
      " which takes 10 of damage!\n",
      "Saruman casts Fireball\n",
      " which takes 50 of damage!\n",
      "~~~~~~~~~~\n",
      "-> Saruman wins!\n",
      "----------\n",
      "CLASH 5:\n",
      "~~~~~~~~~~\n",
      "Gandalf casts Fireball\n",
      " which takes 50 of damage!\n",
      "Saruman casts Black Tentacles\n",
      " which takes 25 of damage!\n",
      "~~~~~~~~~~\n",
      "-> Gandalf wins!\n",
      "----------\n",
      "CLASH 6:\n",
      "~~~~~~~~~~\n",
      "Gandalf casts Magic arrow\n",
      " which takes 10 of damage!\n",
      "Saruman casts Lightning bolt\n",
      " which takes 40 of damage!\n",
      "~~~~~~~~~~\n",
      "-> Saruman wins!\n",
      "----------\n",
      "CLASH 7:\n",
      "~~~~~~~~~~\n",
      "Gandalf casts Lightning bolt\n",
      " which takes 40 of damage!\n",
      "Saruman casts Magic arrow\n",
      " which takes 10 of damage!\n",
      "~~~~~~~~~~\n",
      "-> Gandalf wins!\n",
      "----------\n",
      "CLASH 8:\n",
      "~~~~~~~~~~\n",
      "Gandalf casts Fireball\n",
      " which takes 50 of damage!\n",
      "Saruman casts Contagion\n",
      " which takes 45 of damage!\n",
      "~~~~~~~~~~\n",
      "-> Gandalf wins!\n",
      "----------\n",
      "CLASH 9:\n",
      "~~~~~~~~~~\n",
      "Gandalf casts Fireball\n",
      " which takes 50 of damage!\n",
      "Saruman casts Magic arrow\n",
      " which takes 10 of damage!\n",
      "~~~~~~~~~~\n",
      "-> Gandalf wins!\n",
      "==========\n",
      "Gandalf wins 3 clashes in a row. Gandalf wins the duel!\n"
     ]
    }
   ],
   "source": [
    "from time import sleep\n",
    "\n",
    "power_spells = ['Fireball', 'Lightning bolt', 'Magic arrow', 'Black Tentacles', 'Contagion']\n",
    "power_damage = [50, 40, 10, 25, 45]\n",
    "gandalf = ['Fireball', 'Lightning bolt', 'Lightning bolt', 'Magic arrow', 'Fireball', 'Magic arrow', 'Lightning bolt', 'Fireball', 'Fireball', 'Fireball']\n",
    "saruman = ['Contagion', 'Contagion', 'Black Tentacles', 'Fireball', 'Black Tentacles', 'Lightning bolt', 'Magic arrow', 'Contagion', 'Magic arrow', 'Magic arrow']\n",
    "\n",
    "gandalf_wins = 0\n",
    "saruman_wins = 0\n",
    "\n",
    "n = -1\n",
    "x = 1\n",
    "\n",
    "print(f'--------Wizard Duel!-------')\n",
    "while n + 1 < len(gandalf):\n",
    "    n += x\n",
    "    print('-'*10)\n",
    "    print(f'CLASH {n+1}:')\n",
    "    print('~' * 10)\n",
    "    print('Gandalf casts {}'.format(gandalf[n]))\n",
    "    g = list.index(power_spells, gandalf[n], 0, 9)\n",
    "    print(' which takes {} of damage!'.format(power_damage[g]))\n",
    "    print('Saruman casts {}'.format(saruman[n]))\n",
    "    s = list.index(power_spells, saruman[n], 0, 9)\n",
    "    print(' which takes {} of damage!'.format(power_damage[s]))\n",
    "    print('~'*10)\n",
    "    if power_damage[g] > power_damage[s]:\n",
    "        print('-> Gandalf wins!')\n",
    "        gandalf_wins += 1\n",
    "        saruman_wins -= 1\n",
    "        if gandalf_wins == 3:\n",
    "            break\n",
    "    elif power_damage[g] < power_damage[s]:\n",
    "        print('-> Saruman wins!')\n",
    "        saruman_wins += 1\n",
    "        gandalf_wins -= 1\n",
    "        if saruman_wins == 3:\n",
    "            break\n",
    "    else:\n",
    "        print('-> It is a tie.')\n",
    "    sleep(1)\n",
    "\n",
    "print('='*10)\n",
    "if gandalf_wins > saruman_wins:\n",
    "    print(f'Gandalf wins {gandalf_wins} clashes in a row. Gandalf wins the duel!')\n",
    "elif gandalf_wins < saruman_wins:\n",
    "    print(f'Saruman wins {saruman_wins} clashes in a row. Saruman wins the duel!')\n",
    "else:\n",
    "    print('-> It is a tie.')"
   ]
  },
  {
   "cell_type": "markdown",
   "metadata": {},
   "source": [
    "#### 5. Find the average spell power of Gandalf and Saruman. "
   ]
  },
  {
   "cell_type": "code",
   "execution_count": 17,
   "metadata": {},
   "outputs": [
    {
     "name": "stdout",
     "output_type": "stream",
     "text": [
      "Average spell power of \n",
      "Gandalf: 39.0\n",
      "Saruman: 30.5\n"
     ]
    }
   ],
   "source": [
    "print('Average spell power of ')\n",
    "gandalf_power_average = sum(gandalf_power) / len(gandalf_power)\n",
    "print(f'Gandalf: {gandalf_power_average}')\n",
    "saruman_power_average = sum(saruman_power) / len(saruman_power)\n",
    "print(f'Saruman: {saruman_power_average}')"
   ]
  },
  {
   "cell_type": "markdown",
   "metadata": {},
   "source": [
    "#### 6. Find the standard deviation of the spell power of Gandalf and Saruman. "
   ]
  },
  {
   "cell_type": "code",
   "execution_count": 18,
   "metadata": {},
   "outputs": [
    {
     "name": "stdout",
     "output_type": "stream",
     "text": [
      "Standard deviation of the spell power of \n",
      "Gandalf: 15.13\n",
      "Saruman: 15.56\n"
     ]
    }
   ],
   "source": [
    "print('Standard deviation of the spell power of ')\n",
    "\n",
    "gandalf_stndev_power = (((gandalf_power[0] - gandalf_power_average) ** 2 + (gandalf_power[1] - gandalf_power_average) ** 2 + (gandalf_power[2] - gandalf_power_average) ** 2 + \\\n",
    "                       (gandalf_power[3] - gandalf_power_average) ** 2 + (gandalf_power[4] - gandalf_power_average) ** 2 + (gandalf_power[5] - gandalf_power_average) ** 2 + \\\n",
    "                       (gandalf_power[6] - gandalf_power_average) ** 2 + (gandalf_power[7] - gandalf_power_average) ** 2 + (gandalf_power[8] - gandalf_power_average) ** 2 + \\\n",
    "                       (gandalf_power[9] - gandalf_power_average) ** 2) / len(gandalf_power) ) ** (1/2)\n",
    "print(f'Gandalf: {gandalf_stndev_power:.2f}')\n",
    "\n",
    "saruman_stndev_power = (((saruman_power[0] - saruman_power_average) ** 2 + (saruman_power[1] - saruman_power_average) ** 2 + (saruman_power[2] - saruman_power_average) ** 2 + \\\n",
    "                       (saruman_power[3] - saruman_power_average) ** 2 + (saruman_power[4] - saruman_power_average) ** 2 + (saruman_power[5] - saruman_power_average) ** 2 + \\\n",
    "                       (saruman_power[6] - saruman_power_average) ** 2 + (saruman_power[7] - saruman_power_average) ** 2 + (saruman_power[8] - saruman_power_average) ** 2 + \\\n",
    "                       (saruman_power[9] - saruman_power_average) ** 2) / len(saruman_power) ) ** (1/2)\n",
    "print(f'Saruman: {saruman_stndev_power:.2f}')"
   ]
  }
 ],
 "metadata": {
  "kernelspec": {
   "display_name": "Python 3",
   "language": "python",
   "name": "python3"
  },
  "language_info": {
   "codemirror_mode": {
    "name": "ipython",
    "version": 3
   },
   "file_extension": ".py",
   "mimetype": "text/x-python",
   "name": "python",
   "nbconvert_exporter": "python",
   "pygments_lexer": "ipython3",
   "version": "3.8.5"
  }
 },
 "nbformat": 4,
 "nbformat_minor": 2
}
