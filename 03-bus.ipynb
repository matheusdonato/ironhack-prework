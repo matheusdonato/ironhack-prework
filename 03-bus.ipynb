{
 "cells": [
  {
   "cell_type": "markdown",
   "metadata": {},
   "source": [
    "<img src=\"https://bit.ly/2VnXWr2\" width=\"100\" align=\"left\">"
   ]
  },
  {
   "cell_type": "markdown",
   "metadata": {},
   "source": [
    "# Bus\n",
    "\n",
    "This bus has a passenger entry and exit control system to monitor the number of occupants it carries and thus detect when there are too many.\n",
    "\n",
    "At each stop, the entry and exit of passengers is represented by a tuple consisting of two integer numbers.\n",
    "```\n",
    "bus_stop = (in, out)\n",
    "```\n",
    "The succession of stops is represented by a list of these tuples.\n",
    "```\n",
    "stops = [(in1, out1), (in2, out2), (in3, out3), (in4, out4)]\n",
    "```\n",
    "\n",
    "## Tools\n",
    "You don't necessarily need to use all the tools. Maybe you opt to use some of them or completely different ones, they are given to help you shape the exercise. Programming exercises can be solved in many different ways.\n",
    "* Data structures: **lists, tuples**\n",
    "* Loop: **while/for loops**\n",
    "* Functions: **min, max, len**\n",
    "\n",
    "## Tasks"
   ]
  },
  {
   "cell_type": "code",
   "execution_count": 3,
   "metadata": {},
   "outputs": [],
   "source": [
    "# Variables\n",
    "stops = [(10, 0), (4, 1), (3, 5), (3, 4), (5, 1), (1, 5), (5, 8), (4, 6), (2, 3)]"
   ]
  },
  {
   "cell_type": "markdown",
   "metadata": {},
   "source": [
    "#### 1. Calculate the number of stops."
   ]
  },
  {
   "cell_type": "code",
   "execution_count": 5,
   "metadata": {},
   "outputs": [
    {
     "name": "stdout",
     "output_type": "stream",
     "text": [
      "The number of bus stops is 9\n"
     ]
    }
   ],
   "source": [
    "number_stops = len(stops)\n",
    "\n",
    "print(f'The number of bus stops is {number_stops}')"
   ]
  },
  {
   "cell_type": "markdown",
   "metadata": {},
   "source": [
    "#### 2. Assign to a variable a list whose elements are the number of passengers at each stop (in-out).\n",
    "Each item depends on the previous item in the list + in - out."
   ]
  },
  {
   "cell_type": "code",
   "execution_count": 8,
   "metadata": {},
   "outputs": [
    {
     "name": "stdout",
     "output_type": "stream",
     "text": [
      "The number of people after each stop is:\n",
      "10 13 11 10 14 10 7 5 4 "
     ]
    }
   ],
   "source": [
    "m = 0\n",
    "n = 0\n",
    "print('The number of people after each stop is:')\n",
    "for c in range(0, len(stops)):\n",
    "    m += stops[c][0]\n",
    "    n += stops[c][1]\n",
    "    x = m - n\n",
    "    print(x, end=' ')"
   ]
  },
  {
   "cell_type": "markdown",
   "metadata": {},
   "source": [
    "#### 3. Find the maximum occupation of the bus."
   ]
  },
  {
   "cell_type": "code",
   "execution_count": 9,
   "metadata": {},
   "outputs": [
    {
     "name": "stdout",
     "output_type": "stream",
     "text": [
      "The number of people after each stop is:\n",
      "10 13 11 10 14 10 7 5 4 \n",
      " The maximum occupation has been 14 people, \n",
      " while the minimum has been 4.\n"
     ]
    }
   ],
   "source": [
    "m = 0\n",
    "n = 0\n",
    "max = 0\n",
    "min = 0\n",
    "print('The number of people after each stop is:')\n",
    "for c in range(0, len(stops)):\n",
    "    m += stops[c][0]\n",
    "    n += stops[c][1]\n",
    "    x = m - n\n",
    "    print(x, end=' ')\n",
    "    if c == 0:\n",
    "        max = min = x\n",
    "    else:\n",
    "        if x > max:\n",
    "            max = x\n",
    "        if x < min:\n",
    "            min = x\n",
    "\n",
    "\n",
    "print(f'\\n The maximum occupation has been {max} people, ')\n",
    "print(f' while the minimum has been {min}.')"
   ]
  },
  {
   "cell_type": "markdown",
   "metadata": {},
   "source": [
    "#### 4. Calculate the average occupation. And the standard deviation."
   ]
  },
  {
   "cell_type": "code",
   "execution_count": 12,
   "metadata": {},
   "outputs": [
    {
     "name": "stdout",
     "output_type": "stream",
     "text": [
      "The number of people after each stop is:\n",
      "10 13 11 10 14 10 7 5 4 \n",
      " The maximum occupation has been 14 people, \n",
      " while the minimum has been 4.\n",
      " The average occupation of the bus is 9.33 people.\n"
     ]
    }
   ],
   "source": [
    "m = 0\n",
    "n = 0\n",
    "max = 0\n",
    "min = 0\n",
    "y = 0\n",
    "print('The number of people after each stop is:')\n",
    "for c in range(0, len(stops)):\n",
    "    m += stops[c][0]\n",
    "    n += stops[c][1]\n",
    "    x = m - n\n",
    "    y += x\n",
    "    print(x, end=' ')\n",
    "    if c == 0:\n",
    "        max = min = x\n",
    "    else:\n",
    "        if x > max:\n",
    "            max = x\n",
    "        if x < min:\n",
    "            min = x\n",
    "\n",
    "print(f'\\n The maximum occupation has been {max} people, ')\n",
    "print(f' while the minimum has been {min}.')\n",
    "avrg_oc = y / len(stops)\n",
    "print(f' The average occupation of the bus is {avrg_oc:.2f} people.')"
   ]
  }
 ],
 "metadata": {
  "kernelspec": {
   "display_name": "Python 3",
   "language": "python",
   "name": "python3"
  },
  "language_info": {
   "codemirror_mode": {
    "name": "ipython",
    "version": 3
   },
   "file_extension": ".py",
   "mimetype": "text/x-python",
   "name": "python",
   "nbconvert_exporter": "python",
   "pygments_lexer": "ipython3",
   "version": "3.8.5"
  }
 },
 "nbformat": 4,
 "nbformat_minor": 2
}
