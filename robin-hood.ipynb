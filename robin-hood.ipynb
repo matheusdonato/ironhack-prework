{
 "cells": [
  {
   "cell_type": "markdown",
   "metadata": {},
   "source": [
    "<img src=\"https://bit.ly/2VnXWr2\" width=\"100\" align=\"left\"/>"
   ]
  },
  {
   "cell_type": "markdown",
   "metadata": {},
   "source": [
    "# Robin Hood\n",
    "Robin Hood has entered a competition to win the archery contest in Sherwood. With his bow and arrows, he needs to shoot on a target and try to hit as close as possible to the center.\n",
    "\n",
    "![](images/arrows.jpg)\n",
    "\n",
    "## Context\n",
    "In this challenge, the landing position of arrows shot by archers in the competition will be represented using 2-dimensional coordinates. \n",
    "\n",
    "In the 2-dimensional space, a point can be defined by a pair of values that correspond to the horizontal coordinate (x) and the vertical coordinate (y). For example, in our case, an arrow that hits the center of the archery target will land in position (0, 0) on the coordinate axes. \n",
    "\n",
    "The space can be divided into 4 zones (quadrants): Q1, Q2, Q3, Q4. If a point is in Q1, both its x coordinate and y coordinate are positive. Any point with a null x or y coordinate is considered to not belong to any quadrant. \n",
    "\n",
    "If you want to know more about the cartesian coordinate system, you can check this [link](https://en.wikipedia.org/wiki/Cartesian_coordinate_system). \n",
    "\n",
    "## Tools\n",
    "You don't necessarily need to use all the tools. Maybe you opt to use some of them or completely different ones, they are given to help you shape the exercise. Programming exercises can be solved in many different ways.\n",
    "* Data structures: **lists, sets, tuples**\n",
    "* Conditional statements: **if-elif-else**\n",
    "* Loop: **while/for**\n",
    "* Minimum (optional sorting)\n",
    "\n",
    "## Tasks\n",
    "Robin Hood has hit the following points:"
   ]
  },
  {
   "cell_type": "code",
   "execution_count": 2,
   "metadata": {},
   "outputs": [],
   "source": [
    "points = [(4, 5), (-0, 2), (4, 7), (1, -3), (3, -2), (4, 5), (3, 2), (5, 7), (-5, 7), (2, 2), (-4, 5), (0, -2),\n",
    "          (-4, 7), (-1, 3), (-3, 2), (-4, -5), (-3, 2), (5, 7), (5, 7), (2, 2), (9, 9), (-8, -9)]"
   ]
  },
  {
   "cell_type": "markdown",
   "metadata": {},
   "source": [
    "#### 1. Robin Hood is famous for hitting an arrow with another arrow. Find the coordinates of the points where an arrow hits another arrow."
   ]
  },
  {
   "cell_type": "code",
   "execution_count": 3,
   "metadata": {},
   "outputs": [
    {
     "name": "stdout",
     "output_type": "stream",
     "text": [
      "Robin Hood has shot arrows more than once at: {(-3, 2), (4, 5), (5, 7), (2, 2)}\n"
     ]
    }
   ],
   "source": [
    "d = set([x for x in points if points.count(x) > 1])\n",
    "\n",
    "print(f'Robin Hood has shot arrows more than once at: {d}')"
   ]
  },
  {
   "cell_type": "markdown",
   "metadata": {},
   "source": [
    "#### 2. Calculate how many arrows have fallen in each quadrant. \n",
    "**Note**: the arrows that fall in the axis (x=0 or y=0) don't belong to any quadrant."
   ]
  },
  {
   "cell_type": "code",
   "execution_count": 4,
   "metadata": {},
   "outputs": [
    {
     "name": "stdout",
     "output_type": "stream",
     "text": [
      "(4, 5) -> Q1\n",
      "(0, 2) -> None\n",
      "(4, 7) -> Q1\n",
      "(1, -3) -> Q4\n",
      "(3, -2) -> Q4\n",
      "(4, 5) -> Q1\n",
      "(3, 2) -> Q1\n",
      "(5, 7) -> Q1\n",
      "(-5, 7) -> Q2\n",
      "(2, 2) -> Q1\n",
      "(-4, 5) -> Q2\n",
      "(0, -2) -> None\n",
      "(-4, 7) -> Q2\n",
      "(-1, 3) -> Q2\n",
      "(-3, 2) -> Q2\n",
      "(-4, -5) -> Q3\n",
      "(-3, 2) -> Q2\n",
      "(5, 7) -> Q1\n",
      "(5, 7) -> Q1\n",
      "(2, 2) -> Q1\n",
      "(9, 9) -> Q1\n",
      "(-8, -9) -> Q3\n",
      ">>-------------------------------------->\n",
      "10 arrows hit the 1st quadrant.\n",
      "8 arrows hit the 2nd quadrant.\n",
      "0 arrows hit the 3rd quadrant.\n",
      "2 arrows hit the 4th quadrant.\n",
      "2 arrows hit no quadrant.\n"
     ]
    }
   ],
   "source": [
    "countq1 = countq2 = countq3 = countq4 = countnone = 0\n",
    "\n",
    "for c in range(0, len(points)):\n",
    "    #print(points[c])\n",
    "    if points[c][0] > 0 and points[c][1] > 0:\n",
    "        print(f'{points[c]} -> Q1')\n",
    "        countq1 += 1\n",
    "    elif points[c][0] < 0 and points[c][1] > 0:\n",
    "        print(f'{points[c]} -> Q2')\n",
    "        countq2 += 1\n",
    "    elif points[c][0] < 0 and points[c][1] < 0:\n",
    "        print(f'{points[c]} -> Q3')\n",
    "        countq2 += 1\n",
    "    elif points[c][0] > 0 and points[c][1] < 0:\n",
    "        print(f'{points[c]} -> Q4')\n",
    "        countq4 += 1\n",
    "    else:\n",
    "        print(f'{points[c]} -> None')\n",
    "        countnone += 1\n",
    "print('>>-------------------------------------->')\n",
    "print(f'{countq1} arrows hit the 1st quadrant.')\n",
    "print(f'{countq2} arrows hit the 2nd quadrant.')\n",
    "print(f'{countq3} arrows hit the 3rd quadrant.')\n",
    "print(f'{countq4} arrows hit the 4th quadrant.')\n",
    "print(f'{countnone} arrows hit no quadrant.')"
   ]
  },
  {
   "cell_type": "markdown",
   "metadata": {},
   "source": [
    "#### 3. Find the point closest to the center. Calculate its distance to the center. \n",
    "Take into account that there might be more than one point at the minimum distance to the center.\n",
    "\n",
    "**Hint**: Use the Euclidean distance. You can find more information about it [here](https://en.wikipedia.org/wiki/Euclidean_distance).  \n",
    "**Hint**: Defining a function that calculates the distance to the center can help."
   ]
  },
  {
   "cell_type": "code",
   "execution_count": 7,
   "metadata": {},
   "outputs": [
    {
     "name": "stdout",
     "output_type": "stream",
     "text": [
      "Closest points to center are: \n",
      "(0, 2)\n",
      "(0, -2)\n",
      "Distance to center: \n",
      "2.0\n"
     ]
    }
   ],
   "source": [
    "min = 0\n",
    "print('Closest points to center are: ')\n",
    "for c in range(0, len(points)):\n",
    "    dt = ((points[c][0]) ** 2 + (points[c][1]) ** 2) ** (1/2)\n",
    "    # print(f'{points[c]} -> {dt:.2f}')\n",
    "    if c == 0:\n",
    "       min = dt\n",
    "    else:\n",
    "        if dt < min:\n",
    "            min = dt\n",
    "        if dt == min:\n",
    "            print(points[c])\n",
    "\n",
    "print('Distance to center: ')\n",
    "print(min)"
   ]
  },
  {
   "cell_type": "markdown",
   "metadata": {},
   "source": [
    "#### 4. If the archery target has a radius of 9, calculate the number of arrows that won't hit the target. \n",
    "**Hint**: Use the function created in step 3. "
   ]
  },
  {
   "cell_type": "code",
   "execution_count": 12,
   "metadata": {},
   "outputs": [
    {
     "name": "stdout",
     "output_type": "stream",
     "text": [
      "(x, y) -> distance to (0,0)\n",
      ">>-------------------------------------->\n",
      "(4, 5) -> 6.40\n",
      "(4, 7) -> 8.06\n",
      "(4, 5) -> 6.40\n",
      "(5, 7) -> 8.60\n",
      "(-5, 7) -> 8.60\n",
      "(-4, 5) -> 6.40\n",
      "(-4, 7) -> 8.06\n",
      "(-4, -5) -> 6.40\n",
      "(5, 7) -> 8.60\n",
      "(5, 7) -> 8.60\n",
      "(9, 9) -> 12.73\n",
      "(-8, -9) -> 12.04\n",
      ">>-------------------------------------->\n",
      "There were 12 missed arrow shots\n"
     ]
    }
   ],
   "source": [
    "radius = 9\n",
    "countmissed = 0\n",
    "print('(x, y) -> distance to (0,0)')\n",
    "print('>>-------------------------------------->')\n",
    "for c in range(0, len(points)):\n",
    "    dt = ((points[c][0]) ** 2 + (points[c][1]) ** 2) ** (1/2)\n",
    "    # print(f'{points[c]} -> {dt:.2f}')\n",
    "    if dt > (radius/2):\n",
    "        print(f'{points[c]} -> {dt:.2f}')\n",
    "        countmissed +=1\n",
    "print('>>-------------------------------------->')\n",
    "print(f'There were {countmissed} missed arrow shots')"
   ]
  }
 ],
 "metadata": {
  "kernelspec": {
   "display_name": "Python 3",
   "language": "python",
   "name": "python3"
  },
  "language_info": {
   "codemirror_mode": {
    "name": "ipython",
    "version": 3
   },
   "file_extension": ".py",
   "mimetype": "text/x-python",
   "name": "python",
   "nbconvert_exporter": "python",
   "pygments_lexer": "ipython3",
   "version": "3.8.5"
  }
 },
 "nbformat": 4,
 "nbformat_minor": 2
}
