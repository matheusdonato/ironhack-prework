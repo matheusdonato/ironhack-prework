{
 "cells": [
  {
   "cell_type": "markdown",
   "metadata": {},
   "source": [
    "<img src=\"https://bit.ly/2VnXWr2\" width=\"100\" align=\"left\">"
   ]
  },
  {
   "cell_type": "markdown",
   "metadata": {},
   "source": [
    "# The Snail and the Well\n",
    "\n",
    "A snail falls at the bottom of a 125 cm well. Each day the snail rises 30 cm. But at night, while sleeping, slides 20 cm because the walls are wet. How many days does it take for the snail to escape the well?\n",
    "\n",
    "**Hint**: The snail gets out of the well when it surpasses the 125cm of height.\n",
    "\n",
    "## Tools\n",
    "\n",
    "1. Loop: **while**\n",
    "2. Conditional statements: **if-else**\n",
    "3. Function: **print()**\n",
    "\n",
    "## Tasks\n",
    "\n",
    "#### 1. Assign the challenge data to variables with representative names: `well_height`, `daily_distance`, `nightly_distance` and `snail_position`."
   ]
  },
  {
   "cell_type": "code",
   "execution_count": 3,
   "metadata": {},
   "outputs": [],
   "source": [
    "well_height = 125\n",
    "daily_distance = 30\n",
    "nightly_distance = -20\n",
    "snail_position = 0"
   ]
  },
  {
   "cell_type": "markdown",
   "metadata": {},
   "source": [
    "#### 2. Create a variable `days` to keep count of the days that pass until the snail escapes the well. "
   ]
  },
  {
   "cell_type": "code",
   "execution_count": 4,
   "metadata": {},
   "outputs": [],
   "source": [
    "days = 1"
   ]
  },
  {
   "cell_type": "markdown",
   "metadata": {},
   "source": [
    "#### 3. Find the solution to the challenge using the variables defined above. "
   ]
  },
  {
   "cell_type": "code",
   "execution_count": 5,
   "metadata": {},
   "outputs": [
    {
     "name": "stdout",
     "output_type": "stream",
     "text": [
      "10 cm -> 20 cm -> 30 cm -> 40 cm -> 50 cm -> 60 cm -> 70 cm -> 80 cm -> 90 cm -> 100 cm -> 125 cm -> Snail escapes!\n",
      "\n",
      " It took 11 days for the snail to escape the well\n"
     ]
    }
   ],
   "source": [
    "distance = snail_position\n",
    "\n",
    "while distance <= well_height:\n",
    "    distance += (daily_distance + nightly_distance)\n",
    "    days += 1\n",
    "    if distance + daily_distance >= well_height:\n",
    "        print(f'{distance} cm -> {well_height} cm', end=' ')\n",
    "        break\n",
    "    else:\n",
    "        print(f'{distance} cm ->', end=' ')\n",
    "print('-> Snail escapes!')\n",
    "print(f'\\n It took {days} days for the snail to escape the well')"
   ]
  },
  {
   "cell_type": "markdown",
   "metadata": {},
   "source": [
    "#### 4. Print the solution."
   ]
  },
  {
   "cell_type": "code",
   "execution_count": 6,
   "metadata": {},
   "outputs": [
    {
     "name": "stdout",
     "output_type": "stream",
     "text": [
      "10 cm -> 20 cm -> 30 cm -> 40 cm -> 50 cm -> 60 cm -> 70 cm -> 80 cm -> 90 cm -> 100 cm -> 125 cm -> Snail escapes!\n",
      "\n",
      " It took 21 days for the snail to escape the well\n"
     ]
    }
   ],
   "source": [
    "distance = snail_position\n",
    "\n",
    "while distance <= well_height:\n",
    "    distance += (daily_distance + nightly_distance)\n",
    "    days += 1\n",
    "    if distance + daily_distance >= well_height:\n",
    "        print(f'{distance} cm -> {well_height} cm', end=' ')\n",
    "        break\n",
    "    else:\n",
    "        print(f'{distance} cm ->', end=' ')\n",
    "print('-> Snail escapes!')\n",
    "print(f'\\n It took {days} days for the snail to escape the well')"
   ]
  },
  {
   "cell_type": "markdown",
   "metadata": {},
   "source": [
    "## Bonus\n",
    "The distance traveled by the snail each day is now defined by a list.\n",
    "```\n",
    "advance_cm = [30, 21, 33, 77, 44, 45, 23, 45, 12, 34, 55]\n",
    "```\n",
    "On the first day, the snail rises 30cm but during the night it slides 20cm. On the second day, the snail rises 21cm but during the night it slides 20cm, and so on. \n",
    "\n",
    "#### 1. How many days does it take for the snail to escape the well?\n",
    "Follow the same guidelines as in the previous challenge.\n",
    "\n",
    "**Hint**: Remember that the snail gets out of the well when it surpasses the 125cm of height."
   ]
  },
  {
   "cell_type": "code",
   "execution_count": 7,
   "metadata": {},
   "outputs": [
    {
     "name": "stdout",
     "output_type": "stream",
     "text": [
      "10 -> 11 -> 24 -> 81 -> 125 -> Snail escapes!\n",
      "\n",
      " It took the snail 5 days to escape the well\n"
     ]
    }
   ],
   "source": [
    "well_height = 125\n",
    "advance_cm = [30, 21, 33, 77, 44, 45, 23, 45, 12, 34, 55]\n",
    "nightly_distance = -20\n",
    "distance = 0\n",
    "days = 1\n",
    "for c in range(0, 10):\n",
    "    distance += (advance_cm[c] + nightly_distance)\n",
    "    if distance + advance_cm[c+1] <= well_height:\n",
    "        print(distance, end=' -> ')\n",
    "        days += 1\n",
    "print(well_height, end=' ')\n",
    "print('-> Snail escapes!')\n",
    "print(f'\\n It took the snail {days} days to escape the well')"
   ]
  },
  {
   "cell_type": "markdown",
   "metadata": {},
   "source": [
    "#### 2. What is its maximum displacement in one day? And its minimum? Calculate the displacement using only the travel distance of the days used to get out of the well. \n",
    "**Hint**: Remember that displacement means the total distance risen taking into account that the snail slides at night.  "
   ]
  },
  {
   "cell_type": "code",
   "execution_count": 8,
   "metadata": {},
   "outputs": [
    {
     "name": "stdout",
     "output_type": "stream",
     "text": [
      "10 -> 11 -> 24 -> 81 -> 125 -> Snail escapes!\n",
      "\n",
      " It took the snail 5 days to escape the well\n",
      "\n",
      " The maximum displacement in a day was 57 cm, and the minimum one was 1 cm.\n"
     ]
    }
   ],
   "source": [
    "well_height = 125\n",
    "advance_cm = [30, 21, 33, 77, 44, 45, 23, 45, 12, 34, 55]\n",
    "nightly_distance = -20\n",
    "distance = 0\n",
    "distance1 = 10\n",
    "days = 1\n",
    "max = 0\n",
    "min = 0\n",
    "\n",
    "for c in range(0, 10):\n",
    "   # print('t{}: {} cm'.format(c+1, advance_cm[c]+nightly_distance))\n",
    "    distance += (advance_cm[c] + nightly_distance)\n",
    "    distance1 += (advance_cm[c+1] + nightly_distance)\n",
    "    # print(distance)\n",
    "    if distance + advance_cm[c+1] <= well_height:\n",
    "        print(distance, end=' -> ')\n",
    "        days += 1\n",
    "        if c == 0:\n",
    "           max = distance1 - distance\n",
    "           min = distance1 - distance\n",
    "        else:\n",
    "            if distance1 - distance > max:\n",
    "                max = distance1 - distance\n",
    "            if distance1 - distance < min:\n",
    "                min = distance1 - distance\n",
    "\n",
    "print(well_height, end=' ')\n",
    "print('-> Snail escapes!')\n",
    "print(f'\\n It took the snail {days} days to escape the well')\n",
    "print(f'\\n The maximum displacement in a day was {max} cm, and the minimum one was {min} cm.')"
   ]
  },
  {
   "cell_type": "markdown",
   "metadata": {},
   "source": [
    "#### 3. What is its average progress? Take into account the snail slides at night."
   ]
  },
  {
   "cell_type": "code",
   "execution_count": 9,
   "metadata": {},
   "outputs": [
    {
     "name": "stdout",
     "output_type": "stream",
     "text": [
      "The average progress of the snail has been 25 cm a day.\n"
     ]
    }
   ],
   "source": [
    "average_progress = well_height / days\n",
    "print(f'The average progress of the snail has been {average_progress:.0f} cm a day.')"
   ]
  },
  {
   "cell_type": "markdown",
   "metadata": {},
   "source": [
    "#### 4. What is the standard deviation of its displacement? Take into account the snail slides at night."
   ]
  },
  {
   "cell_type": "code",
   "execution_count": 10,
   "metadata": {},
   "outputs": [
    {
     "name": "stdout",
     "output_type": "stream",
     "text": [
      "The standard deviation of its displacements is 21.59 cm.\n"
     ]
    }
   ],
   "source": [
    "standard_deviation = (((advance_cm[4] - average_progress) ** 2 + (advance_cm[3] + nightly_distance - average_progress) ** 2 + (advance_cm[2] + nightly_distance - average_progress) ** 2 \\\n",
    "                     + (advance_cm[1] + nightly_distance - average_progress) ** 2 + (advance_cm[0] + nightly_distance - average_progress) ** 2) / 5) ** (1/2)\n",
    "print(f'The standard deviation of its displacements is {standard_deviation:.2f} cm.')"
   ]
  }
 ],
 "metadata": {
  "kernelspec": {
   "display_name": "Python 3",
   "language": "python",
   "name": "python3"
  },
  "language_info": {
   "codemirror_mode": {
    "name": "ipython",
    "version": 3
   },
   "file_extension": ".py",
   "mimetype": "text/x-python",
   "name": "python",
   "nbconvert_exporter": "python",
   "pygments_lexer": "ipython3",
   "version": "3.8.5"
  }
 },
 "nbformat": 4,
 "nbformat_minor": 2
}
